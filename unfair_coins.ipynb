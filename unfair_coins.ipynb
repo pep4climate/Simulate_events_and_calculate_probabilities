{
 "cells": [
  {
   "cell_type": "code",
   "execution_count": 53,
   "metadata": {},
   "outputs": [],
   "source": [
    "import random"
   ]
  },
  {
   "cell_type": "code",
   "execution_count": 54,
   "metadata": {},
   "outputs": [],
   "source": [
    "def unfair_coin_flip(probability_of_tails):\n",
    "    if random.random() < probability_of_tails:\n",
    "        return \"tails\"\n",
    "    else:\n",
    "        return \"heads\""
   ]
  },
  {
   "cell_type": "code",
   "execution_count": 55,
   "metadata": {},
   "outputs": [],
   "source": [
    "#Coin flip experiment\n",
    "heads_tally = 0\n",
    "tails_tally = 0\n",
    "\n",
    "no_flips = 10_000\n",
    "probability_of_tails = 0.51\n",
    "\n",
    "for trial in range(no_flips):\n",
    "    if unfair_coin_flip(probability_of_tails) == 'heads':\n",
    "        heads_tally = heads_tally + 1\n",
    "    else:\n",
    "        tails_tally = tails_tally + 1"
   ]
  },
  {
   "cell_type": "code",
   "execution_count": 56,
   "metadata": {},
   "outputs": [
    {
     "name": "stdout",
     "output_type": "stream",
     "text": [
      "10000\n",
      "0.51\n",
      "4906\n",
      "5094\n",
      "0.9630938358853554\n"
     ]
    }
   ],
   "source": [
    "#Print number of heads, of tails, and their ratio\n",
    "ratio = heads_tally/tails_tally\n",
    "\n",
    "print(no_flips)\n",
    "print(probability_of_tails)\n",
    "print(heads_tally)\n",
    "print(tails_tally)\n",
    "print(ratio)"
   ]
  },
  {
   "cell_type": "code",
   "execution_count": 59,
   "metadata": {},
   "outputs": [
    {
     "name": "stdout",
     "output_type": "stream",
     "text": [
      "The ratio of heads to tails is 0.9630938358853554 in 10000 flips, when the probability of tails is 0.51.\n"
     ]
    }
   ],
   "source": [
    "print(f\"The ratio of heads to tails is {ratio} in {no_flips} flips, when the probability of tails is {probability_of_tails}.\")"
   ]
  },
  {
   "cell_type": "code",
   "execution_count": null,
   "metadata": {},
   "outputs": [],
   "source": []
  }
 ],
 "metadata": {
  "kernelspec": {
   "display_name": "Python 3.9.7 ('base')",
   "language": "python",
   "name": "python3"
  },
  "language_info": {
   "codemirror_mode": {
    "name": "ipython",
    "version": 3
   },
   "file_extension": ".py",
   "mimetype": "text/x-python",
   "name": "python",
   "nbconvert_exporter": "python",
   "pygments_lexer": "ipython3",
   "version": "3.9.7"
  },
  "orig_nbformat": 4,
  "vscode": {
   "interpreter": {
    "hash": "40d3a090f54c6569ab1632332b64b2c03c39dcf918b08424e98f38b5ae0af88f"
   }
  }
 },
 "nbformat": 4,
 "nbformat_minor": 2
}
