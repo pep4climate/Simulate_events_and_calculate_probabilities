{
 "cells": [
  {
   "cell_type": "code",
   "execution_count": 342,
   "metadata": {},
   "outputs": [],
   "source": [
    "import random"
   ]
  },
  {
   "cell_type": "code",
   "execution_count": 343,
   "metadata": {},
   "outputs": [],
   "source": [
    "def dice_roll():\n",
    "    \"\"\"Randomly returns dice's numbers\"\"\"\n",
    "    if random.randint(0,6) == 1:\n",
    "        return 1\n",
    "    elif random.randint(0,6) == 2:\n",
    "        return 2\n",
    "    elif random.randint(0,6) == 3:\n",
    "        return 3\n",
    "    elif random.randint(0,6) == 4:\n",
    "        return 4\n",
    "    elif random.randint(0,6) == 5:\n",
    "        return 5\n",
    "    else:\n",
    "        return 6"
   ]
  },
  {
   "cell_type": "code",
   "execution_count": 344,
   "metadata": {},
   "outputs": [
    {
     "data": {
      "text/plain": [
       "4"
      ]
     },
     "execution_count": 344,
     "metadata": {},
     "output_type": "execute_result"
    }
   ],
   "source": [
    "dice_roll()"
   ]
  },
  {
   "cell_type": "code",
   "execution_count": 345,
   "metadata": {},
   "outputs": [],
   "source": [
    "#First initialise the tallies to 0\n",
    "ones_tally = 0\n",
    "twos_tally = 0\n",
    "threes_tally = 0\n",
    "fours_tally = 0\n",
    "fives_tally = 0\n",
    "sixes_tally = 0"
   ]
  },
  {
   "cell_type": "code",
   "execution_count": 346,
   "metadata": {},
   "outputs": [],
   "source": [
    "#Second roll the dice\n",
    "no_rolls = 10_000\n",
    "for trial in range(no_rolls):\n",
    "    if dice_roll() == 1:\n",
    "        ones_tally = ones_tally + 1\n",
    "    elif dice_roll() == 2:\n",
    "        twos_tally = twos_tally + 1\n",
    "    elif dice_roll() == 3:\n",
    "        threes_tally = threes_tally + 1\n",
    "    elif dice_roll() == 4:\n",
    "        fours_tally = fours_tally + 1\n",
    "    elif dice_roll() == 5:\n",
    "        fives_tally = fives_tally + 1\n",
    "    else:\n",
    "        sixes_tally = sixes_tally + 1"
   ]
  },
  {
   "cell_type": "code",
   "execution_count": 347,
   "metadata": {},
   "outputs": [
    {
     "name": "stdout",
     "output_type": "stream",
     "text": [
      "1406\n",
      "1019\n",
      "753\n",
      "592\n",
      "492\n",
      "5738\n"
     ]
    }
   ],
   "source": [
    "print(ones_tally)\n",
    "print(twos_tally)\n",
    "print(threes_tally)\n",
    "print(fours_tally)\n",
    "print(fives_tally)\n",
    "print(sixes_tally)"
   ]
  },
  {
   "cell_type": "code",
   "execution_count": 348,
   "metadata": {},
   "outputs": [
    {
     "name": "stdout",
     "output_type": "stream",
     "text": [
      "4.4959\n"
     ]
    }
   ],
   "source": [
    "average_number_rolled = (1 * ones_tally + 2 * twos_tally + 3 * threes_tally + 4 * fours_tally + 5 * fives_tally + 6 * sixes_tally)/no_rolls\n",
    "print(average_number_rolled)"
   ]
  },
  {
   "cell_type": "code",
   "execution_count": null,
   "metadata": {},
   "outputs": [],
   "source": []
  }
 ],
 "metadata": {
  "kernelspec": {
   "display_name": "Python 3.9.7 ('base')",
   "language": "python",
   "name": "python3"
  },
  "language_info": {
   "codemirror_mode": {
    "name": "ipython",
    "version": 3
   },
   "file_extension": ".py",
   "mimetype": "text/x-python",
   "name": "python",
   "nbconvert_exporter": "python",
   "pygments_lexer": "ipython3",
   "version": "3.9.7"
  },
  "orig_nbformat": 4,
  "vscode": {
   "interpreter": {
    "hash": "40d3a090f54c6569ab1632332b64b2c03c39dcf918b08424e98f38b5ae0af88f"
   }
  }
 },
 "nbformat": 4,
 "nbformat_minor": 2
}
