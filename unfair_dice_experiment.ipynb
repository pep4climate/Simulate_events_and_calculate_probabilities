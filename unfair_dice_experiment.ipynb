{
 "cells": [
  {
   "cell_type": "code",
   "execution_count": 183,
   "metadata": {},
   "outputs": [],
   "source": [
    "#https://www.insidescience.org/news/dice-rolls-are-not-completely-random"
   ]
  },
  {
   "cell_type": "code",
   "execution_count": 184,
   "metadata": {},
   "outputs": [],
   "source": [
    "import random"
   ]
  },
  {
   "cell_type": "code",
   "execution_count": 185,
   "metadata": {},
   "outputs": [],
   "source": [
    "roll_results = []"
   ]
  },
  {
   "cell_type": "code",
   "execution_count": 186,
   "metadata": {},
   "outputs": [],
   "source": [
    "from random import randrange\n",
    "\n",
    "\n",
    "def unfair_roll_dice(num_rolls):\n",
    "    \"\"\"\"\n",
    "    Return a list of integers with length 'num_rolls'.\n",
    "    Each integer in the returned list is a random number\n",
    "    between 1 and 6 inclusive.\n",
    "    The integers are not equally likely.\n",
    "    \"\"\"\n",
    "    for trial in range(num_rolls):\n",
    "        roll = randrange(1,7,1)\n",
    "        #https://docs.python.org/3/library/random.html\n",
    "        #https://pynative.com/python-random-randrange/#:~:text=Use%20randrnage()%20to%20generate%20random%20integer%20within%20a%20range&text=randrange()%20function%20to%20get,4%2C%206%2C%208).\n",
    "        #https://courses.lumenlearning.com/suny-osalgebratrig/chapter/domain-and-range/\n",
    "        roll_results.append(roll)\n",
    "    return roll_results\n"
   ]
  },
  {
   "cell_type": "code",
   "execution_count": 187,
   "metadata": {},
   "outputs": [
    {
     "name": "stdout",
     "output_type": "stream",
     "text": [
      "[3, 2, 3, 6, 5]\n"
     ]
    }
   ],
   "source": [
    "num_dices = 1\n",
    "num_faces = 6\n",
    "num_rolls = 100_000\n",
    "print(unfair_roll_dice(num_rolls)[0:5])"
   ]
  },
  {
   "cell_type": "code",
   "execution_count": 188,
   "metadata": {},
   "outputs": [
    {
     "data": {
      "text/plain": [
       "True"
      ]
     },
     "execution_count": 188,
     "metadata": {},
     "output_type": "execute_result"
    }
   ],
   "source": [
    "6 in roll_results"
   ]
  },
  {
   "cell_type": "code",
   "execution_count": 189,
   "metadata": {},
   "outputs": [],
   "source": [
    "import numpy as np"
   ]
  },
  {
   "cell_type": "code",
   "execution_count": 190,
   "metadata": {},
   "outputs": [
    {
     "name": "stdout",
     "output_type": "stream",
     "text": [
      "(100000, 1)\n"
     ]
    }
   ],
   "source": [
    "roll_results = np.array(roll_results)\n",
    "roll_results = np.expand_dims(roll_results, axis = 1)\n",
    "print(roll_results.shape)"
   ]
  },
  {
   "cell_type": "code",
   "execution_count": 191,
   "metadata": {},
   "outputs": [
    {
     "name": "stdout",
     "output_type": "stream",
     "text": [
      "3.50031\n"
     ]
    }
   ],
   "source": [
    "average_rolled_number = np.sum(roll_results)/num_rolls\n",
    "print(average_rolled_number)"
   ]
  },
  {
   "cell_type": "code",
   "execution_count": 192,
   "metadata": {},
   "outputs": [],
   "source": [
    "specified_probability = 0.4\n",
    "remainging_probability = (1 - specified_probability)/5"
   ]
  },
  {
   "cell_type": "code",
   "execution_count": 193,
   "metadata": {},
   "outputs": [
    {
     "name": "stdout",
     "output_type": "stream",
     "text": [
      "(1, 6)\n",
      "[[0.4  0.12 0.12 0.12 0.12 0.12]]\n"
     ]
    }
   ],
   "source": [
    "unfair_probability = [specified_probability, remainging_probability, remainging_probability, remainging_probability, remainging_probability, remainging_probability]\n",
    "unfair_probability = np.array([unfair_probability])\n",
    "print(unfair_probability.shape)\n",
    "print(unfair_probability)"
   ]
  },
  {
   "cell_type": "code",
   "execution_count": 201,
   "metadata": {},
   "outputs": [
    {
     "name": "stdout",
     "output_type": "stream",
     "text": [
      "(1, 6)\n",
      "[[1 2 3 4 5 6]]\n"
     ]
    }
   ],
   "source": [
    "dice_face_numbers = np.array([range(1,7)])\n",
    "print(dice_face_numbers.shape)\n",
    "print(dice_face_numbers)"
   ]
  },
  {
   "cell_type": "code",
   "execution_count": 202,
   "metadata": {},
   "outputs": [],
   "source": [
    "unfair_outcome_probability = np.dot(unfair_probability, dice_face_numbers.T)\n",
    "#https://www.geeksforgeeks.org/how-to-calculate-dot-product-of-two-vectors-in-python/\n",
    "#https://stackoverflow.com/questions/39608421/showing-valueerror-shapes-1-3-and-1-3-not-aligned-3-dim-1-1-dim-0"
   ]
  },
  {
   "cell_type": "code",
   "execution_count": 203,
   "metadata": {},
   "outputs": [
    {
     "name": "stdout",
     "output_type": "stream",
     "text": [
      "2.8\n"
     ]
    }
   ],
   "source": [
    "unfair_expected_value = np.sum(unfair_outcome_probability)\n",
    "print(unfair_expected_value)"
   ]
  }
 ],
 "metadata": {
  "kernelspec": {
   "display_name": "Python 3.9.7 ('base')",
   "language": "python",
   "name": "python3"
  },
  "language_info": {
   "codemirror_mode": {
    "name": "ipython",
    "version": 3
   },
   "file_extension": ".py",
   "mimetype": "text/x-python",
   "name": "python",
   "nbconvert_exporter": "python",
   "pygments_lexer": "ipython3",
   "version": "3.9.7"
  },
  "orig_nbformat": 4,
  "vscode": {
   "interpreter": {
    "hash": "40d3a090f54c6569ab1632332b64b2c03c39dcf918b08424e98f38b5ae0af88f"
   }
  }
 },
 "nbformat": 4,
 "nbformat_minor": 2
}
