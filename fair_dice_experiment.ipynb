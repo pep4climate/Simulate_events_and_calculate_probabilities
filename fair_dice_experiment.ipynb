{
 "cells": [
  {
   "cell_type": "code",
   "execution_count": 170,
   "metadata": {},
   "outputs": [],
   "source": [
    "#https://realpython.com/python-dice-roll/"
   ]
  },
  {
   "cell_type": "code",
   "execution_count": 171,
   "metadata": {},
   "outputs": [],
   "source": [
    "import random"
   ]
  },
  {
   "cell_type": "code",
   "execution_count": 172,
   "metadata": {},
   "outputs": [],
   "source": [
    "roll_results = [] #https://academo.org/demos/dice-roll-statistics/#:~:text=If%20you%20roll%20a%20fair,expected%20to%20appear%20100%20times."
   ]
  },
  {
   "cell_type": "code",
   "execution_count": 173,
   "metadata": {},
   "outputs": [],
   "source": [
    "def roll_dice(num_rolls):\n",
    "    \"\"\"\n",
    "    Return a list of integers with length 'num_rolls'.\n",
    "    Each integer in the returned list is a random number\n",
    "    between 1 and 6, inclusive.\n",
    "    Each integer is equally likely. \n",
    "    \"\"\"\n",
    "    for trial in range(num_rolls):\n",
    "        roll = random.randint(1,6)\n",
    "        roll_results.append(roll)\n",
    "    return roll_results"
   ]
  },
  {
   "cell_type": "code",
   "execution_count": 174,
   "metadata": {},
   "outputs": [
    {
     "name": "stdout",
     "output_type": "stream",
     "text": [
      "[3, 4, 5, 4, 6]\n"
     ]
    }
   ],
   "source": [
    "num_dices = 1\n",
    "num_faces = 6\n",
    "num_rolls = 100_000\n",
    "print(roll_dice(num_rolls)[0:5])"
   ]
  },
  {
   "cell_type": "code",
   "execution_count": 175,
   "metadata": {},
   "outputs": [
    {
     "name": "stdout",
     "output_type": "stream",
     "text": [
      "(100000, 1)\n"
     ]
    }
   ],
   "source": [
    "import numpy as np\n",
    "\n",
    "roll_results = np.array(roll_results)\n",
    "roll_results = np.expand_dims(roll_results, axis=1)\n",
    "print(roll_results.shape)\n"
   ]
  },
  {
   "cell_type": "code",
   "execution_count": 176,
   "metadata": {},
   "outputs": [
    {
     "name": "stdout",
     "output_type": "stream",
     "text": [
      "3.49979\n"
     ]
    }
   ],
   "source": [
    "average_rolled_number = np.sum(roll_results)/num_rolls\n",
    "print(average_rolled_number) #https://jdmeducational.com/what-is-the-expected-value-of-a-dice-roll-11-common-questions/#:~:text=A%20Dice%20Roll%3F-,The%20expected%20value%20of%20a%20dice%20roll%20is%203.5%20for,one%20face%20of%20the%20die).\n",
    "#https://www.mathwords.com/e/expected_value.htm\n"
   ]
  },
  {
   "cell_type": "code",
   "execution_count": 177,
   "metadata": {},
   "outputs": [
    {
     "name": "stdout",
     "output_type": "stream",
     "text": [
      "0.16666666666666666\n"
     ]
    }
   ],
   "source": [
    "fair_probability = 1/num_faces #https://sciencing.com/calculate-dice-probabilities-5858157.html\n",
    "print(fair_probability)"
   ]
  },
  {
   "cell_type": "code",
   "execution_count": 178,
   "metadata": {},
   "outputs": [
    {
     "name": "stdout",
     "output_type": "stream",
     "text": [
      "(6, 1)\n"
     ]
    }
   ],
   "source": [
    "dices_face_numbers = np.array(range(1,7)) #https://stackoverflow.com/questions/35166633/how-do-i-multiply-each-element-in-a-list-by-a-number\n",
    "dices_face_numbers = np.expand_dims(dices_face_numbers, axis=1)\n",
    "print(dices_face_numbers.shape)"
   ]
  },
  {
   "cell_type": "code",
   "execution_count": 179,
   "metadata": {},
   "outputs": [
    {
     "name": "stdout",
     "output_type": "stream",
     "text": [
      "3.5\n"
     ]
    }
   ],
   "source": [
    "fair_expected_value = np.sum(dices_face_numbers * fair_probability)\n",
    "print(fair_expected_value)\n"
   ]
  },
  {
   "cell_type": "code",
   "execution_count": 180,
   "metadata": {},
   "outputs": [
    {
     "name": "stdout",
     "output_type": "stream",
     "text": [
      "[1, 2, 3, 4, 5, 6]\n"
     ]
    }
   ],
   "source": [
    "dices_face_numbers = list(range(1,7)) #https://www.adamsmith.haus/python/answers/how-to-create-an-array-of-numbers-1-to-n-in-python\n",
    "print(dices_face_numbers)"
   ]
  },
  {
   "cell_type": "code",
   "execution_count": 181,
   "metadata": {},
   "outputs": [],
   "source": [
    "fair_expected_value = []\n",
    "outcome_probability = []\n",
    "\n",
    "for i in range(len(dices_face_numbers)):\n",
    "    outcome_probability.append((dices_face_numbers[i] * fair_probability))\n",
    "\n",
    "fair_expected_value = sum(outcome_probability)"
   ]
  },
  {
   "cell_type": "code",
   "execution_count": 182,
   "metadata": {},
   "outputs": [
    {
     "name": "stdout",
     "output_type": "stream",
     "text": [
      "3.5\n"
     ]
    }
   ],
   "source": [
    "print(fair_expected_value)"
   ]
  },
  {
   "cell_type": "code",
   "execution_count": null,
   "metadata": {},
   "outputs": [],
   "source": []
  }
 ],
 "metadata": {
  "kernelspec": {
   "display_name": "Python 3.9.7 ('base')",
   "language": "python",
   "name": "python3"
  },
  "language_info": {
   "codemirror_mode": {
    "name": "ipython",
    "version": 3
   },
   "file_extension": ".py",
   "mimetype": "text/x-python",
   "name": "python",
   "nbconvert_exporter": "python",
   "pygments_lexer": "ipython3",
   "version": "3.9.7"
  },
  "orig_nbformat": 4,
  "vscode": {
   "interpreter": {
    "hash": "40d3a090f54c6569ab1632332b64b2c03c39dcf918b08424e98f38b5ae0af88f"
   }
  }
 },
 "nbformat": 4,
 "nbformat_minor": 2
}
