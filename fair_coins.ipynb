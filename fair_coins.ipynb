{
 "cells": [
  {
   "cell_type": "code",
   "execution_count": 50,
   "metadata": {},
   "outputs": [],
   "source": [
    "import random"
   ]
  },
  {
   "cell_type": "code",
   "execution_count": 51,
   "metadata": {},
   "outputs": [],
   "source": [
    "def coin_flip():\n",
    "    \"\"\"Randomly return 'heads' or 'tails'\"\"\"\n",
    "    if random.randint(0,1) == 0: #randint() returns a 0 or a 1 with equal probability\n",
    "        return \"heads\"\n",
    "    else:\n",
    "        return \"tails\""
   ]
  },
  {
   "cell_type": "code",
   "execution_count": 52,
   "metadata": {},
   "outputs": [],
   "source": [
    "#First initialize the tallies to 0\n",
    "heads_tally = 0\n",
    "tails_tally = 0"
   ]
  },
  {
   "cell_type": "code",
   "execution_count": 53,
   "metadata": {},
   "outputs": [],
   "source": [
    "#Second flip the coin\n",
    "no_flips = 10_000\n",
    "for trial in range(no_flips):\n",
    "    if coin_flip() == 'heads':\n",
    "        heads_tally = heads_tally + 1\n",
    "    else:\n",
    "        tails_tally = tails_tally + 1"
   ]
  },
  {
   "cell_type": "code",
   "execution_count": 54,
   "metadata": {},
   "outputs": [
    {
     "name": "stdout",
     "output_type": "stream",
     "text": [
      "10000\n",
      "4997\n",
      "5003\n",
      "0.998800719568259\n"
     ]
    }
   ],
   "source": [
    "#Print the number of heads, tails, and their ratio\n",
    "ratio = heads_tally/tails_tally\n",
    "print(no_flips)\n",
    "print(heads_tally)\n",
    "print(tails_tally)\n",
    "print(ratio)"
   ]
  },
  {
   "cell_type": "code",
   "execution_count": null,
   "metadata": {},
   "outputs": [],
   "source": []
  }
 ],
 "metadata": {
  "kernelspec": {
   "display_name": "Python 3.9.7 ('base')",
   "language": "python",
   "name": "python3"
  },
  "language_info": {
   "codemirror_mode": {
    "name": "ipython",
    "version": 3
   },
   "file_extension": ".py",
   "mimetype": "text/x-python",
   "name": "python",
   "nbconvert_exporter": "python",
   "pygments_lexer": "ipython3",
   "version": "3.9.7"
  },
  "orig_nbformat": 4,
  "vscode": {
   "interpreter": {
    "hash": "40d3a090f54c6569ab1632332b64b2c03c39dcf918b08424e98f38b5ae0af88f"
   }
  }
 },
 "nbformat": 4,
 "nbformat_minor": 2
}
